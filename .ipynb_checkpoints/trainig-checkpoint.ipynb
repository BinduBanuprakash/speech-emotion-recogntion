{
 "cells": [
  {
   "cell_type": "code",
   "execution_count": 21,
   "metadata": {
    "scrolled": false
   },
   "outputs": [
    {
     "name": "stderr",
     "output_type": "stream",
     "text": [
      "curdir: C:\\Users\\Amrutha\\Desktop\\ml_2020_project\\speech_proj_2_mlp_final_version_2\n",
      "started reading folder Neutral\n",
      "C:\\Users\\Amrutha\\Anaconda3\\lib\\site-packages\\scipy\\io\\wavfile.py:254: WavFileWarning: Chunk (non-data) not understood, skipping it.\n",
      "  WavFileWarning)\n"
     ]
    },
    {
     "name": "stdout",
     "output_type": "stream",
     "text": [
      "['.ipynb_checkpoints', 'ANN_model_.h5', 'data', 'feature_extraction.ipynb', 'LSTM_best_model.h5', 'Model.ipynb', 'model_in_json.json', 'nueral.ipynb', 'output', 'plot_graph.ipynb', 'predict.ipynb', 'testing.ipynb', 'trainig.ipynb']\n",
      "convert stereo to mono\n"
     ]
    },
    {
     "name": "stderr",
     "output_type": "stream",
     "text": [
      "ended reading folder Neutral\n",
      "started reading folder Angry\n",
      "ended reading folder Angry\n",
      "started reading folder Happy\n"
     ]
    },
    {
     "name": "stdout",
     "output_type": "stream",
     "text": [
      "convert stereo to mono\n"
     ]
    },
    {
     "name": "stderr",
     "output_type": "stream",
     "text": [
      "ended reading folder Happy\n",
      "started reading folder Sad\n",
      "C:\\Users\\Amrutha\\Anaconda3\\lib\\site-packages\\ipykernel_launcher.py:85: RuntimeWarning: invalid value encountered in log10\n",
      "ended reading folder Sad\n"
     ]
    }
   ],
   "source": [
    "%run feature_extraction.ipynb\n",
    "%run nueral.ipynb\n",
    "import matplotlib.pyplot as plt\n",
    "# extract the feature from the data folder\n",
    "to_flatten = True\n",
    "x_train, x_test, y_train, y_test, num_labels = extract_data(flatten=to_flatten)"
   ]
  },
  {
   "cell_type": "code",
   "execution_count": 22,
   "metadata": {},
   "outputs": [],
   "source": [
    "# get current working directory \n",
    "nb_dir = os.path.split(os.getcwd())[0]\n",
    "if nb_dir not in sys.path:\n",
    "    sys.path.append(nb_dir)"
   ]
  },
  {
   "cell_type": "code",
   "execution_count": 23,
   "metadata": {},
   "outputs": [
    {
     "name": "stdout",
     "output_type": "stream",
     "text": [
      "(817,)\n",
      "(817, 7722)\n",
      "(205,)\n"
     ]
    }
   ],
   "source": [
    "# First model MLP classifier\n",
    "# reshaping the training data to fit the model \n",
    "\n",
    "size = x_train.shape\n",
    "print( x_train.shape)\n",
    "for i in range(size[0]):\n",
    "    if len(x_train[i]) <= 7722:\n",
    "        l = 7722 - len(x_train[i])\n",
    "        x_train[i] = np.append(x_train[i],np.zeros(l))\n",
    "    else:\n",
    "        x_train[i] = x_train[i][:7722]\n",
    "x_train = np.asarray([np.asarray(row, dtype=float) for row in x_train], dtype=float)\n",
    "print(x_train.shape)\n",
    "\n",
    "size = x_test.shape\n",
    "print(x_test.shape)\n",
    "for i in range(size[0]):\n",
    "    if len(x_test[i]) <= 7722:\n",
    "        l = 7722 - len(x_test[i])\n",
    "        x_test[i] = np.append(x_test[i],np.zeros(l))\n",
    "    else:\n",
    "        x_test[i] = x_test[i][:7722]\n",
    "x_test = np.asarray([np.asarray(row, dtype=float) for row in x_test], dtype=float)\n"
   ]
  },
  {
   "cell_type": "code",
   "execution_count": 24,
   "metadata": {},
   "outputs": [
    {
     "name": "stdout",
     "output_type": "stream",
     "text": [
      "Iteration 1, loss = 1.29059804\n",
      "Iteration 2, loss = 0.74339543\n",
      "Iteration 3, loss = 0.51958424\n",
      "Iteration 4, loss = 0.35284955\n",
      "Iteration 5, loss = 0.21963081\n",
      "Iteration 6, loss = 0.13475500\n",
      "Iteration 7, loss = 0.09671978\n",
      "Iteration 8, loss = 0.06098833\n",
      "Iteration 9, loss = 0.04381135\n",
      "Iteration 10, loss = 0.03502045\n",
      "Iteration 11, loss = 0.02955342\n",
      "Iteration 12, loss = 0.02639033\n",
      "Iteration 13, loss = 0.02363408\n",
      "Iteration 14, loss = 0.02127179\n",
      "Iteration 15, loss = 0.01983763\n",
      "Iteration 16, loss = 0.01835089\n",
      "Iteration 17, loss = 0.01689426\n",
      "Iteration 18, loss = 0.01591565\n",
      "Iteration 19, loss = 0.01541672\n",
      "Iteration 20, loss = 0.01463847\n",
      "Iteration 21, loss = 0.01395731\n",
      "Iteration 22, loss = 0.01328819\n",
      "Iteration 23, loss = 0.01286863\n",
      "Iteration 24, loss = 0.01215330\n",
      "Iteration 25, loss = 0.01177856\n",
      "Iteration 26, loss = 0.01180910\n",
      "Iteration 27, loss = 0.01171580\n",
      "Iteration 28, loss = 0.01095889\n",
      "Iteration 29, loss = 0.01071282\n",
      "Iteration 30, loss = 0.01062873\n",
      "Iteration 31, loss = 0.01022500\n",
      "Iteration 32, loss = 0.01036131\n",
      "Iteration 33, loss = 0.00989624\n",
      "Iteration 34, loss = 0.00990891\n",
      "Iteration 35, loss = 0.00968225\n",
      "Iteration 36, loss = 0.00998591\n",
      "Iteration 37, loss = 0.00919414\n",
      "Iteration 38, loss = 0.00916811\n",
      "Iteration 39, loss = 0.00974531\n",
      "Iteration 40, loss = 0.00906799\n",
      "Iteration 41, loss = 0.00939006\n",
      "Iteration 42, loss = 0.00937183\n",
      "Iteration 43, loss = 0.00902720\n",
      "Iteration 44, loss = 0.00913143\n",
      "Iteration 45, loss = 0.00890553\n",
      "Iteration 46, loss = 0.00893517\n",
      "Iteration 47, loss = 0.00876261\n",
      "Iteration 48, loss = 0.00910848\n",
      "Iteration 49, loss = 0.00831994\n",
      "Iteration 50, loss = 0.00888517\n",
      "Iteration 51, loss = 0.00914121\n",
      "Iteration 52, loss = 0.00896318\n",
      "Iteration 53, loss = 0.00828347\n",
      "Iteration 54, loss = 0.00863311\n",
      "Iteration 55, loss = 0.00903910\n",
      "Iteration 56, loss = 0.00864111\n",
      "Iteration 57, loss = 0.00822773\n",
      "Iteration 58, loss = 0.00878440\n",
      "Iteration 59, loss = 0.00816879\n",
      "Iteration 60, loss = 0.00836195\n",
      "Training loss did not improve more than tol=0.000100 for 10 consecutive epochs. Stopping.\n"
     ]
    }
   ],
   "source": [
    "# intialising the model\n",
    "%run nueral.ipynb\n",
    "model = MLP()\n",
    "# train\n",
    "mlp_loss_value = model.train(x_train, y_train)"
   ]
  },
  {
   "cell_type": "code",
   "execution_count": 25,
   "metadata": {
    "scrolled": false
   },
   "outputs": [
    {
     "name": "stdout",
     "output_type": "stream",
     "text": [
      "confusion matrics= [[31  0  4 11]\n",
      " [ 0 41  8  4]\n",
      " [ 6 19 23 15]\n",
      " [ 9  1  8 25]]\n",
      "  \n",
      " accuracy= 58.536585365853654\n",
      "Normalized confusion matrix\n",
      "[[0.67391304 0.         0.08695652 0.23913043]\n",
      " [0.         0.77358491 0.1509434  0.0754717 ]\n",
      " [0.0952381  0.3015873  0.36507937 0.23809524]\n",
      " [0.20930233 0.02325581 0.18604651 0.58139535]]\n"
     ]
    },
    {
     "data": {
      "image/png": "[encoded data removed]",
      "text/plain": [
       "<Figure size 432x288 with 2 Axes>"
      ]
     },
     "metadata": {
      "needs_background": "light"
     },
     "output_type": "display_data"
    }
   ],
   "source": [
    "#  print the accuracy nad confusion matrix\n",
    "from sklearn.utils.multiclass import unique_labels\n",
    "result = []\n",
    "result.append(model.evaluate(x_test,y_test))\n",
    "plt.savefig('MLP_confusion_matrix.png')"
   ]
  },
  {
   "cell_type": "code",
   "execution_count": 28,
   "metadata": {
    "scrolled": true
   },
   "outputs": [
    {
     "data": {
      "image/png": "[encoded data removed]",
      "text/plain": [
       "<Figure size 720x360 with 1 Axes>"
      ]
     },
     "metadata": {
      "needs_background": "light"
     },
     "output_type": "display_data"
    }
   ],
   "source": [
    "# map the loss curve for mlp\n",
    "model.plot_curve()"
   ]
  },
  {
   "cell_type": "code",
   "execution_count": 8,
   "metadata": {
    "scrolled": true
   },
   "outputs": [
    {
     "name": "stdout",
     "output_type": "stream",
     "text": [
      "(817, 7722)\n",
      "(817, 198, 39)\n",
      "(205, 7722)\n",
      "(205, 198, 39)\n"
     ]
    }
   ],
   "source": [
    "# # second model LSTM\n",
    "\n",
    "# reshape the feature vector \n",
    "size = x_train.shape\n",
    "print(x_train.shape)\n",
    "for i in range(size[0]):\n",
    "    if len(x_train[i]) <= 7722:\n",
    "        l = 7722 - len(x_train[i])\n",
    "#         print(\"asd\",l)\n",
    "        x_train[i] = np.append(x_train[i],np.zeros(l))\n",
    "    else:\n",
    "        x_train[i] = x_train[i][:7722]\n",
    "x_train = np.asarray([np.asarray(row, dtype=float) for row in x_train], dtype=float)\n",
    "x_train = np.resize(x_train, (size[0],198, 39))\n",
    "print(x_train.shape)\n",
    "\n",
    "size = x_test.shape\n",
    "print(x_test.shape)\n",
    "for i in range(size[0]):\n",
    "    if len(x_test[i]) <= 7722:\n",
    "        l = 7722 - len(x_test[i])\n",
    "#         print(\"asd\",l)\n",
    "        x_test[i] = np.append(x_test[i],np.zeros(l))\n",
    "    else:\n",
    "        x_test[i] = x_test[i][:7722]\n",
    "x_test = np.asarray([np.asarray(row, dtype=float) for row in x_test], dtype=float)\n",
    "x_test = np.resize(x_test, (size[0],198, 39))\n",
    "print(x_test.shape)\n"
   ]
  },
  {
   "cell_type": "code",
   "execution_count": 9,
   "metadata": {},
   "outputs": [],
   "source": [
    "# get current working directory \n",
    "nb_dir = os.path.split(os.getcwd())[0]\n",
    "if nb_dir not in sys.path:\n",
    "    sys.path.append(nb_dir)"
   ]
  },
  {
   "cell_type": "code",
   "execution_count": 10,
   "metadata": {},
   "outputs": [],
   "source": [
    "# importing np_utils \n",
    "from keras.utils import np_utils"
   ]
  },
  {
   "cell_type": "code",
   "execution_count": 11,
   "metadata": {
    "scrolled": false
   },
   "outputs": [
    {
     "name": "stdout",
     "output_type": "stream",
     "text": [
      "Starting LSTM\n",
      "4\n",
      "amru\n",
      "sfs\n",
      "WARNING:tensorflow:From C:\\Users\\Amrutha\\Anaconda3\\lib\\site-packages\\tensorflow\\python\\ops\\resource_variable_ops.py:435: colocate_with (from tensorflow.python.framework.ops) is deprecated and will be removed in a future version.\n",
      "Instructions for updating:\n",
      "Colocations handled automatically by placer.\n",
      "Model: \"sequential_1\"\n",
      "_________________________________________________________________\n",
      "Layer (type)                 Output Shape              Param #   \n",
      "=================================================================\n",
      "lstm_1 (LSTM)                (None, 198, 128)          86016     \n",
      "_________________________________________________________________\n",
      "dropout_1 (Dropout)          (None, 198, 128)          0         \n",
      "_________________________________________________________________\n",
      "flatten_1 (Flatten)          (None, 25344)             0         \n",
      "_________________________________________________________________\n",
      "dense_1 (Dense)              (None, 32)                811040    \n",
      "_________________________________________________________________\n",
      "dense_2 (Dense)              (None, 16)                528       \n",
      "_________________________________________________________________\n",
      "dense_3 (Dense)              (None, 4)                 68        \n",
      "=================================================================\n",
      "Total params: 897,652\n",
      "Trainable params: 897,652\n",
      "Non-trainable params: 0\n",
      "_________________________________________________________________\n",
      "WARNING:tensorflow:From C:\\Users\\Amrutha\\Anaconda3\\lib\\site-packages\\tensorflow\\python\\ops\\math_ops.py:3066: to_int32 (from tensorflow.python.ops.math_ops) is deprecated and will be removed in a future version.\n",
      "Instructions for updating:\n",
      "Use tf.cast instead.\n"
     ]
    },
    {
     "name": "stderr",
     "output_type": "stream",
     "text": [
      "None\n"
     ]
    },
    {
     "name": "stdout",
     "output_type": "stream",
     "text": [
      "Epoch 1/1\n",
      "817/817 [==============================] - 4s 5ms/step - loss: 0.5323 - accuracy: 0.7518\n",
      "205/205 [==============================] - 0s 2ms/step\n",
      "Epoch 1/1\n",
      "817/817 [==============================] - 4s 5ms/step - loss: 0.4254 - accuracy: 0.8109\n",
      "205/205 [==============================] - 0s 1ms/step\n",
      "Epoch 1/1\n",
      "817/817 [==============================] - 4s 5ms/step - loss: 0.3949 - accuracy: 0.8265\n",
      "205/205 [==============================] - 0s 1ms/step\n",
      "Epoch 1/1\n",
      "817/817 [==============================] - 4s 5ms/step - loss: 0.3648 - accuracy: 0.8421\n",
      "205/205 [==============================] - 0s 1ms/step\n",
      "Epoch 1/1\n",
      "817/817 [==============================] - 4s 5ms/step - loss: 0.3328 - accuracy: 0.8592\n",
      "205/205 [==============================] - 0s 1ms/step\n",
      "Epoch 1/1\n",
      "817/817 [==============================] - 4s 5ms/step - loss: 0.2951 - accuracy: 0.8880\n",
      "205/205 [==============================] - 0s 1ms/step\n",
      "Epoch 1/1\n",
      "817/817 [==============================] - 4s 5ms/step - loss: 0.2575 - accuracy: 0.9076\n",
      "205/205 [==============================] - 0s 2ms/step\n",
      "Epoch 1/1\n",
      "817/817 [==============================] - 4s 5ms/step - loss: 0.2388 - accuracy: 0.9168\n",
      "205/205 [==============================] - 0s 2ms/step\n",
      "Epoch 1/1\n",
      "817/817 [==============================] - 4s 5ms/step - loss: 0.2094 - accuracy: 0.9315\n",
      "205/205 [==============================] - 0s 2ms/step\n",
      "Epoch 1/1\n",
      "817/817 [==============================] - 4s 5ms/step - loss: 0.1972 - accuracy: 0.9345\n",
      "205/205 [==============================] - 0s 2ms/step\n",
      "Epoch 1/1\n",
      "817/817 [==============================] - 4s 5ms/step - loss: 0.1776 - accuracy: 0.9471\n",
      "205/205 [==============================] - 0s 2ms/step\n",
      "Epoch 1/1\n",
      "817/817 [==============================] - 4s 5ms/step - loss: 0.1660 - accuracy: 0.9510\n",
      "205/205 [==============================] - 0s 2ms/step\n",
      "Epoch 1/1\n",
      "817/817 [==============================] - 4s 5ms/step - loss: 0.1389 - accuracy: 0.9559\n",
      "205/205 [==============================] - 0s 2ms/step\n",
      "Epoch 1/1\n",
      "817/817 [==============================] - 4s 5ms/step - loss: 0.1290 - accuracy: 0.9538\n",
      "205/205 [==============================] - 0s 2ms/step\n",
      "Epoch 1/1\n",
      "817/817 [==============================] - 4s 5ms/step - loss: 0.1326 - accuracy: 0.9529\n",
      "205/205 [==============================] - 0s 2ms/step\n",
      "Epoch 1/1\n",
      "817/817 [==============================] - 4s 5ms/step - loss: 0.1129 - accuracy: 0.9642\n",
      "205/205 [==============================] - 0s 2ms/step\n",
      "Epoch 1/1\n",
      "817/817 [==============================] - 4s 5ms/step - loss: 0.1055 - accuracy: 0.9636\n",
      "205/205 [==============================] - 0s 2ms/step\n",
      "Epoch 1/1\n",
      "817/817 [==============================] - 4s 5ms/step - loss: 0.0887 - accuracy: 0.9700\n",
      "205/205 [==============================] - 0s 2ms/step\n",
      "Epoch 1/1\n",
      "817/817 [==============================] - 4s 5ms/step - loss: 0.0811 - accuracy: 0.9731\n",
      "205/205 [==============================] - 0s 2ms/step\n",
      "Epoch 1/1\n",
      "817/817 [==============================] - 4s 5ms/step - loss: 0.0673 - accuracy: 0.9804\n",
      "205/205 [==============================] - 0s 2ms/step\n",
      "Epoch 1/1\n",
      "817/817 [==============================] - 4s 5ms/step - loss: 0.0533 - accuracy: 0.9865\n",
      "205/205 [==============================] - 0s 2ms/step\n",
      "Epoch 1/1\n",
      "817/817 [==============================] - 4s 5ms/step - loss: 0.0522 - accuracy: 0.9850\n",
      "205/205 [==============================] - 0s 2ms/step\n",
      "Epoch 1/1\n",
      "817/817 [==============================] - 4s 5ms/step - loss: 0.0494 - accuracy: 0.9875\n",
      "205/205 [==============================] - 0s 2ms/step\n",
      "Epoch 1/1\n",
      "817/817 [==============================] - 4s 5ms/step - loss: 0.0503 - accuracy: 0.9865\n",
      "205/205 [==============================] - 0s 2ms/step\n",
      "Epoch 1/1\n",
      "817/817 [==============================] - 4s 5ms/step - loss: 0.0400 - accuracy: 0.9908\n",
      "205/205 [==============================] - 0s 2ms/step\n",
      "Epoch 1/1\n",
      "817/817 [==============================] - 4s 5ms/step - loss: 0.0325 - accuracy: 0.9945\n",
      "205/205 [==============================] - 0s 2ms/step\n",
      "Epoch 1/1\n",
      "817/817 [==============================] - 4s 5ms/step - loss: 0.0287 - accuracy: 0.9960\n",
      "205/205 [==============================] - 0s 2ms/step\n",
      "Epoch 1/1\n",
      "817/817 [==============================] - 4s 5ms/step - loss: 0.0240 - accuracy: 0.9963\n",
      "205/205 [==============================] - 0s 2ms/step\n",
      "Epoch 1/1\n",
      "817/817 [==============================] - 4s 5ms/step - loss: 0.0214 - accuracy: 0.9976\n",
      "205/205 [==============================] - 0s 2ms/step\n",
      "Epoch 1/1\n",
      "817/817 [==============================] - 4s 5ms/step - loss: 0.0206 - accuracy: 0.9966\n",
      "205/205 [==============================] - 0s 2ms/step\n",
      "Epoch 1/1\n",
      "817/817 [==============================] - 4s 5ms/step - loss: 0.0195 - accuracy: 0.9969\n",
      "205/205 [==============================] - 0s 2ms/step\n",
      "Epoch 1/1\n",
      "817/817 [==============================] - 4s 5ms/step - loss: 0.0200 - accuracy: 0.9957\n",
      "205/205 [==============================] - 0s 2ms/step\n",
      "Epoch 1/1\n",
      "817/817 [==============================] - 4s 5ms/step - loss: 0.0272 - accuracy: 0.9951\n",
      "205/205 [==============================] - 0s 2ms/step\n",
      "Epoch 1/1\n",
      "817/817 [==============================] - 4s 5ms/step - loss: 0.0308 - accuracy: 0.9911\n",
      "205/205 [==============================] - 0s 2ms/step\n",
      "Epoch 1/1\n",
      "817/817 [==============================] - 4s 5ms/step - loss: 0.0847 - accuracy: 0.9706\n",
      "205/205 [==============================] - 0s 2ms/step\n",
      "Epoch 1/1\n",
      "817/817 [==============================] - 4s 5ms/step - loss: 0.0707 - accuracy: 0.9767\n",
      "205/205 [==============================] - 0s 2ms/step\n",
      "Epoch 1/1\n",
      "817/817 [==============================] - 4s 5ms/step - loss: 0.0308 - accuracy: 0.9933\n",
      "205/205 [==============================] - 0s 2ms/step\n",
      "Epoch 1/1\n",
      "817/817 [==============================] - 4s 5ms/step - loss: 0.0242 - accuracy: 0.9942\n",
      "205/205 [==============================] - 0s 2ms/step\n",
      "Epoch 1/1\n",
      "817/817 [==============================] - 4s 5ms/step - loss: 0.0184 - accuracy: 0.9963\n",
      "205/205 [==============================] - 0s 2ms/step\n",
      "Epoch 1/1\n",
      "817/817 [==============================] - 4s 5ms/step - loss: 0.0185 - accuracy: 0.9963\n",
      "205/205 [==============================] - 0s 2ms/step\n",
      "Epoch 1/1\n",
      "817/817 [==============================] - 4s 5ms/step - loss: 0.0162 - accuracy: 0.9966\n",
      "205/205 [==============================] - 0s 2ms/step\n",
      "Epoch 1/1\n",
      "817/817 [==============================] - 4s 5ms/step - loss: 0.0131 - accuracy: 0.9982\n",
      "205/205 [==============================] - 0s 2ms/step\n",
      "Epoch 1/1\n",
      "817/817 [==============================] - 4s 5ms/step - loss: 0.0122 - accuracy: 0.9982\n",
      "205/205 [==============================] - 0s 2ms/step\n",
      "Epoch 1/1\n",
      "817/817 [==============================] - 4s 5ms/step - loss: 0.0118 - accuracy: 0.9982\n",
      "205/205 [==============================] - 0s 2ms/step\n",
      "Epoch 1/1\n",
      "817/817 [==============================] - 4s 5ms/step - loss: 0.0112 - accuracy: 0.9982\n",
      "205/205 [==============================] - 0s 2ms/step\n",
      "Epoch 1/1\n",
      "817/817 [==============================] - 4s 5ms/step - loss: 0.0109 - accuracy: 0.9982\n",
      "205/205 [==============================] - 0s 2ms/step\n",
      "Epoch 1/1\n",
      "817/817 [==============================] - 4s 5ms/step - loss: 0.0107 - accuracy: 0.9982\n",
      "205/205 [==============================] - 0s 2ms/step\n",
      "Epoch 1/1\n",
      "817/817 [==============================] - 4s 5ms/step - loss: 0.0105 - accuracy: 0.9982\n",
      "205/205 [==============================] - 0s 2ms/step\n",
      "Epoch 1/1\n",
      "817/817 [==============================] - 4s 5ms/step - loss: 0.0103 - accuracy: 0.9982\n",
      "205/205 [==============================] - 0s 2ms/step\n",
      "Epoch 1/1\n",
      "817/817 [==============================] - 4s 5ms/step - loss: 0.0101 - accuracy: 0.9982\n",
      "205/205 [==============================] - 0s 2ms/step\n",
      "Epoch 1/1\n",
      "817/817 [==============================] - 4s 5ms/step - loss: 0.0092 - accuracy: 0.9982\n",
      "205/205 [==============================] - 0s 2ms/step\n",
      "Epoch 1/1\n",
      "817/817 [==============================] - 4s 5ms/step - loss: 0.0090 - accuracy: 0.9982\n",
      "205/205 [==============================] - 0s 2ms/step\n",
      "Epoch 1/1\n",
      "817/817 [==============================] - 4s 5ms/step - loss: 0.0090 - accuracy: 0.9982\n",
      "205/205 [==============================] - 0s 2ms/step\n",
      "Epoch 1/1\n",
      "817/817 [==============================] - 4s 5ms/step - loss: 0.0088 - accuracy: 0.9982\n",
      "205/205 [==============================] - 0s 2ms/step\n",
      "Epoch 1/1\n",
      "817/817 [==============================] - 4s 5ms/step - loss: 0.0087 - accuracy: 0.9982\n",
      "205/205 [==============================] - 0s 2ms/step\n",
      "Epoch 1/1\n",
      "817/817 [==============================] - 4s 5ms/step - loss: 0.0085 - accuracy: 0.9982\n",
      "205/205 [==============================] - 0s 2ms/step\n",
      "Epoch 1/1\n",
      "817/817 [==============================] - 4s 5ms/step - loss: 0.0094 - accuracy: 0.9982\n",
      "205/205 [==============================] - 0s 2ms/step\n",
      "Epoch 1/1\n",
      "817/817 [==============================] - 4s 5ms/step - loss: 0.0086 - accuracy: 0.9982\n",
      "205/205 [==============================] - 0s 2ms/step\n",
      "Epoch 1/1\n",
      "817/817 [==============================] - 4s 5ms/step - loss: 0.0083 - accuracy: 0.9982\n",
      "205/205 [==============================] - 0s 2ms/step\n",
      "Epoch 1/1\n",
      "817/817 [==============================] - 4s 5ms/step - loss: 0.0082 - accuracy: 0.9982\n",
      "205/205 [==============================] - 0s 2ms/step\n",
      "Epoch 1/1\n",
      "817/817 [==============================] - 4s 5ms/step - loss: 0.0081 - accuracy: 0.9982\n",
      "205/205 [==============================] - 0s 2ms/step\n",
      "Epoch 1/1\n",
      "817/817 [==============================] - 4s 5ms/step - loss: 0.0080 - accuracy: 0.9982\n",
      "205/205 [==============================] - 0s 2ms/step\n",
      "Epoch 1/1\n",
      "817/817 [==============================] - 4s 5ms/step - loss: 0.0079 - accuracy: 0.9982\n",
      "205/205 [==============================] - 0s 2ms/step\n",
      "Epoch 1/1\n",
      "817/817 [==============================] - 4s 5ms/step - loss: 0.0078 - accuracy: 0.9982\n",
      "205/205 [==============================] - 0s 2ms/step\n",
      "Epoch 1/1\n",
      "817/817 [==============================] - 4s 5ms/step - loss: 0.0077 - accuracy: 0.9982\n",
      "205/205 [==============================] - 0s 2ms/step\n",
      "Epoch 1/1\n",
      "817/817 [==============================] - 4s 5ms/step - loss: 0.0077 - accuracy: 0.9982\n",
      "205/205 [==============================] - 0s 2ms/step\n",
      "Epoch 1/1\n",
      "817/817 [==============================] - 4s 5ms/step - loss: 0.0076 - accuracy: 0.9982\n",
      "205/205 [==============================] - 0s 2ms/step\n",
      "Epoch 1/1\n",
      "817/817 [==============================] - 4s 5ms/step - loss: 0.0075 - accuracy: 0.9982\n",
      "205/205 [==============================] - 0s 2ms/step\n",
      "Epoch 1/1\n",
      "817/817 [==============================] - 4s 5ms/step - loss: 0.0075 - accuracy: 0.9982\n",
      "205/205 [==============================] - 0s 2ms/step\n",
      "Epoch 1/1\n",
      "817/817 [==============================] - 4s 5ms/step - loss: 0.0074 - accuracy: 0.9982\n",
      "205/205 [==============================] - 0s 2ms/step\n",
      "Epoch 1/1\n",
      "817/817 [==============================] - 4s 5ms/step - loss: 0.0073 - accuracy: 0.9982\n",
      "205/205 [==============================] - 0s 2ms/step\n",
      "Epoch 1/1\n",
      "817/817 [==============================] - 4s 5ms/step - loss: 0.0073 - accuracy: 0.9982\n",
      "205/205 [==============================] - 0s 2ms/step\n"
     ]
    }
   ],
   "source": [
    "%run nueral.ipynb\n",
    "y_train = np_utils.to_categorical(y_train)\n",
    "y_test = np_utils.to_categorical(y_test)\n",
    "print('Starting LSTM')\n",
    "print(num_labels)\n",
    "classifier = LSTM(input_shape=x_train[0].shape,\n",
    "                 num_classes=num_labels)\n",
    "lstm_loss_value = classifier.train(x_train, y_train, x_test, y_test, n_epochs= len(mlp_loss_value)+1)\n",
    "classifier.save_model()"
   ]
  },
  {
   "cell_type": "code",
   "execution_count": 12,
   "metadata": {
    "scrolled": true
   },
   "outputs": [
    {
     "name": "stdout",
     "output_type": "stream",
     "text": [
      "[0.5315567323794732, 0.4250093102455139, 0.3947310161132079, 0.3654979902964372, 0.33236112617529356, 0.29631015199881333, 0.2570765557197424, 0.23969084884111697, 0.20897307934669349, 0.1971662944326034, 0.17741888704208228, 0.16634377264059508, 0.13852125205672705, 0.12951364912665808, 0.13118962699977252, 0.11134615519012396, 0.10624357542166343, 0.08869284921540664, 0.08238953810471755, 0.06760471127927303, 0.052793667580072694, 0.05168454083972252, 0.048858117240552716, 0.05046769876319628, 0.04007442180926983, 0.032802803764263026, 0.028486233097142898, 0.024369356974672813, 0.021434545051306486, 0.020645731272032626, 0.01948856533719943, 0.019790634512901306, 0.026860342934154548, 0.032180071933768116, 0.08409538857925397, 0.07017164029037723, 0.030345240052646168, 0.023981892575438205, 0.01829422259918199, 0.018910728251704804, 0.015950826462358236, 0.012982962473940391, 0.012089257773298483, 0.01164181911959671, 0.013214288745075464, 0.01079152802972553, 0.01061563988108761, 0.012513696225001834, 0.010214902147149237, 0.009966851588195333, 0.009127089494051268, 0.010529708502312692, 0.008864579059613438, 0.008833736709605616, 0.008546806110713918, 0.008342465663400408, 0.009298570301885216, 0.008489320332256075, 0.0097944062973301, 0.008132224409984281, 0.007988839172937263, 0.007868745771702379, 0.007808527694298671, 0.008813093268634895, 0.007608259365392419, 0.0075678449804679705, 0.0075062130748007735, 0.007409734427570724, 0.007385454686860053, 0.007307166457534409, 0.007242942708007132, 0.0071781340073077725]\n"
     ]
    }
   ],
   "source": [
    "lstm_loss_value=classifier.loss_values\n",
    "print(lstm_loss_value)"
   ]
  },
  {
   "cell_type": "code",
   "execution_count": 13,
   "metadata": {},
   "outputs": [
    {
     "name": "stdout",
     "output_type": "stream",
     "text": [
      "confusion matrics= [[35  0  1 10]\n",
      " [ 0 42  8  3]\n",
      " [ 5 10 40  8]\n",
      " [ 5  0  6 32]]\n",
      "  \n",
      " accuracy= 72.6829268292683\n",
      "Normalized confusion matrix\n",
      "[[0.76086957 0.         0.02173913 0.2173913 ]\n",
      " [0.         0.79245283 0.1509434  0.05660377]\n",
      " [0.07936508 0.15873016 0.63492063 0.12698413]\n",
      " [0.11627907 0.         0.13953488 0.74418605]]\n"
     ]
    },
    {
     "data": {
      "image/png": "[encoded data removed]",
      "text/plain": [
       "<Figure size 432x288 with 2 Axes>"
      ]
     },
     "metadata": {
      "needs_background": "light"
     },
     "output_type": "display_data"
    }
   ],
   "source": [
    "# convert the 2d array of y_test to 1d since the function requires 1d array\n",
    "new_y_test = []\n",
    "for i in y_test:\n",
    "    for j in range(len(i)):\n",
    "        if i[j] == 1:\n",
    "            new_y_test.append(j)\n",
    "result.append(classifier.evaluate(x_test, new_y_test))\n",
    "plt.savefig('LSTM_Confusion_matrix.png')"
   ]
  },
  {
   "cell_type": "code",
   "execution_count": 14,
   "metadata": {},
   "outputs": [
    {
     "name": "stdout",
     "output_type": "stream",
     "text": [
      "UNITS  128\n",
      "BIAS\n",
      "[[ 9.40013751e-02  3.79951075e-02  5.19699492e-02 ...  3.92342620e-02\n",
      "  -8.78048167e-02  5.42915128e-02]\n",
      " [ 1.00446567e-01 -6.42307922e-02  2.53310502e-02 ...  1.31063074e-01\n",
      "   1.08893268e-01 -1.64821073e-01]\n",
      " [-1.30556196e-01 -4.23943363e-02 -4.63941172e-02 ... -1.47335632e-02\n",
      "   8.05011094e-02 -1.18306831e-01]\n",
      " ...\n",
      " [ 7.64946043e-02  1.42092854e-01  9.20780450e-02 ... -2.19949801e-03\n",
      "   5.82958907e-02 -6.19669259e-02]\n",
      " [ 1.03918925e-01  6.09924980e-02 -4.61154766e-02 ... -2.42368504e-02\n",
      "   2.40174364e-02  4.28701974e-02]\n",
      " [-4.85323183e-02 -7.76616856e-04  6.51407391e-02 ...  3.09754927e-02\n",
      "   2.04002615e-02 -6.73108589e-05]]\n",
      "WEIGHTS\n",
      "[[-0.00715837 -0.0805346  -0.00803431 ... -0.06798891  0.08883005\n",
      "   0.00990601]\n",
      " [-0.0541961  -0.08974476  0.08983998 ...  0.10393522  0.0767338\n",
      "   0.04309465]\n",
      " [ 0.20277691 -0.05648152 -0.01407091 ... -0.02548731  0.15614995\n",
      "   0.0309027 ]\n",
      " ...\n",
      " [ 0.107318    0.07515279  0.13786127 ... -0.01229163 -0.08008666\n",
      "   0.02152246]\n",
      " [-0.08449554 -0.08137599 -0.01065317 ... -0.05817552 -0.04510462\n",
      "  -0.01348541]\n",
      " [-0.06475949  0.03522404  0.05910474 ...  0.07044929  0.1446219\n",
      "   0.04304961]]\n"
     ]
    }
   ],
   "source": [
    "# get initial bias and weights\n",
    "bias, weights, units = classifier.get_bias_weights()\n",
    "print(\"UNITS \", units)\n",
    "print(\"BIAS\")\n",
    "print(bias)\n",
    "print(\"WEIGHTS\")\n",
    "print(weights)"
   ]
  },
  {
   "cell_type": "code",
   "execution_count": 15,
   "metadata": {},
   "outputs": [
    {
     "data": {
      "image/png": "[encoded data removed]",
      "text/plain": [
       "<Figure size 720x360 with 1 Axes>"
      ]
     },
     "metadata": {
      "needs_background": "light"
     },
     "output_type": "display_data"
    }
   ],
   "source": [
    "classifier.plot_curve()"
   ]
  },
  {
   "cell_type": "code",
   "execution_count": 19,
   "metadata": {
    "scrolled": true
   },
   "outputs": [
    {
     "data": {
      "image/png": "[encoded data removed]",
      "text/plain": [
       "<Figure size 720x360 with 1 Axes>"
      ]
     },
     "metadata": {
      "needs_background": "light"
     },
     "output_type": "display_data"
    }
   ],
   "source": [
    "fig = plt.figure(figsize=(10, 5))\n",
    "epochs = range(1, len(mlp_loss_value)+1)\n",
    "plt.plot(epochs, mlp_loss_value)\n",
    "epochs = range(1, len(lstm_loss_value)+1)\n",
    "plt.plot(epochs, lstm_loss_value)\n",
    "plt.title('COMPARISION')\n",
    "plt.xlabel('Epochs')\n",
    "plt.ylabel('Loss')\n",
    "plt.legend(['MLP', 'LSTM'], loc='upper left')\n",
    "plt.show()\n",
    "fig.savefig('comprision_loss.png')"
   ]
  },
  {
   "cell_type": "code",
   "execution_count": 2,
   "metadata": {
    "scrolled": true
   },
   "outputs": [
    {
     "ename": "TypeError",
     "evalue": "__init__() got an unexpected keyword argument 'weight'",
     "output_type": "error",
     "traceback": [
      "\u001b[1;31m---------------------------------------------------------------------------\u001b[0m",
      "\u001b[1;31mTypeError\u001b[0m                                 Traceback (most recent call last)",
      "\u001b[1;32m<ipython-input-2-34e3386cab57>\u001b[0m in \u001b[0;36m<module>\u001b[1;34m\u001b[0m\n\u001b[0;32m      2\u001b[0m \u001b[0mnames\u001b[0m \u001b[1;33m=\u001b[0m \u001b[1;33m[\u001b[0m\u001b[1;34m'MLP'\u001b[0m\u001b[1;33m,\u001b[0m \u001b[1;34m'LSTM'\u001b[0m\u001b[1;33m]\u001b[0m\u001b[1;33m\u001b[0m\u001b[1;33m\u001b[0m\u001b[0m\n\u001b[0;32m      3\u001b[0m \u001b[0mresult\u001b[0m \u001b[1;33m=\u001b[0m \u001b[1;33m[\u001b[0m\u001b[1;36m58.53658536585366\u001b[0m\u001b[1;33m,\u001b[0m\u001b[1;36m72.6829268292683\u001b[0m\u001b[1;33m]\u001b[0m\u001b[1;33m\u001b[0m\u001b[1;33m\u001b[0m\u001b[0m\n\u001b[1;32m----> 4\u001b[1;33m \u001b[0mfig\u001b[0m \u001b[1;33m=\u001b[0m \u001b[0mplt\u001b[0m\u001b[1;33m.\u001b[0m\u001b[0mfigure\u001b[0m\u001b[1;33m(\u001b[0m\u001b[0mfigsize\u001b[0m\u001b[1;33m=\u001b[0m\u001b[1;33m(\u001b[0m\u001b[1;36m10\u001b[0m\u001b[1;33m,\u001b[0m \u001b[1;36m5\u001b[0m\u001b[1;33m)\u001b[0m\u001b[1;33m,\u001b[0m\u001b[0mweight\u001b[0m \u001b[1;33m=\u001b[0m \u001b[1;36m0.5\u001b[0m\u001b[1;33m)\u001b[0m\u001b[1;33m\u001b[0m\u001b[1;33m\u001b[0m\u001b[0m\n\u001b[0m\u001b[0;32m      5\u001b[0m \u001b[0mplt\u001b[0m\u001b[1;33m.\u001b[0m\u001b[0mbar\u001b[0m\u001b[1;33m(\u001b[0m\u001b[0mnames\u001b[0m\u001b[1;33m,\u001b[0m\u001b[0mresult\u001b[0m\u001b[1;33m)\u001b[0m\u001b[1;33m\u001b[0m\u001b[1;33m\u001b[0m\u001b[0m\n\u001b[0;32m      6\u001b[0m \u001b[0mfig\u001b[0m\u001b[1;33m.\u001b[0m\u001b[0msavefig\u001b[0m\u001b[1;33m(\u001b[0m\u001b[1;34m'compariaion_accuracy.png'\u001b[0m\u001b[1;33m)\u001b[0m\u001b[1;33m\u001b[0m\u001b[1;33m\u001b[0m\u001b[0m\n",
      "\u001b[1;32m~\\Anaconda3\\lib\\site-packages\\matplotlib\\pyplot.py\u001b[0m in \u001b[0;36mfigure\u001b[1;34m(num, figsize, dpi, facecolor, edgecolor, frameon, FigureClass, clear, **kwargs)\u001b[0m\n\u001b[0;32m    537\u001b[0m                                         \u001b[0mframeon\u001b[0m\u001b[1;33m=\u001b[0m\u001b[0mframeon\u001b[0m\u001b[1;33m,\u001b[0m\u001b[1;33m\u001b[0m\u001b[1;33m\u001b[0m\u001b[0m\n\u001b[0;32m    538\u001b[0m                                         \u001b[0mFigureClass\u001b[0m\u001b[1;33m=\u001b[0m\u001b[0mFigureClass\u001b[0m\u001b[1;33m,\u001b[0m\u001b[1;33m\u001b[0m\u001b[1;33m\u001b[0m\u001b[0m\n\u001b[1;32m--> 539\u001b[1;33m                                         **kwargs)\n\u001b[0m\u001b[0;32m    540\u001b[0m \u001b[1;33m\u001b[0m\u001b[0m\n\u001b[0;32m    541\u001b[0m         \u001b[1;32mif\u001b[0m \u001b[0mfigLabel\u001b[0m\u001b[1;33m:\u001b[0m\u001b[1;33m\u001b[0m\u001b[1;33m\u001b[0m\u001b[0m\n",
      "\u001b[1;32m~\\Anaconda3\\lib\\site-packages\\matplotlib\\backend_bases.py\u001b[0m in \u001b[0;36mnew_figure_manager\u001b[1;34m(cls, num, *args, **kwargs)\u001b[0m\n\u001b[0;32m   3249\u001b[0m         \u001b[1;32mfrom\u001b[0m \u001b[0mmatplotlib\u001b[0m\u001b[1;33m.\u001b[0m\u001b[0mfigure\u001b[0m \u001b[1;32mimport\u001b[0m \u001b[0mFigure\u001b[0m\u001b[1;33m\u001b[0m\u001b[1;33m\u001b[0m\u001b[0m\n\u001b[0;32m   3250\u001b[0m         \u001b[0mfig_cls\u001b[0m \u001b[1;33m=\u001b[0m \u001b[0mkwargs\u001b[0m\u001b[1;33m.\u001b[0m\u001b[0mpop\u001b[0m\u001b[1;33m(\u001b[0m\u001b[1;34m'FigureClass'\u001b[0m\u001b[1;33m,\u001b[0m \u001b[0mFigure\u001b[0m\u001b[1;33m)\u001b[0m\u001b[1;33m\u001b[0m\u001b[1;33m\u001b[0m\u001b[0m\n\u001b[1;32m-> 3251\u001b[1;33m         \u001b[0mfig\u001b[0m \u001b[1;33m=\u001b[0m \u001b[0mfig_cls\u001b[0m\u001b[1;33m(\u001b[0m\u001b[1;33m*\u001b[0m\u001b[0margs\u001b[0m\u001b[1;33m,\u001b[0m \u001b[1;33m**\u001b[0m\u001b[0mkwargs\u001b[0m\u001b[1;33m)\u001b[0m\u001b[1;33m\u001b[0m\u001b[1;33m\u001b[0m\u001b[0m\n\u001b[0m\u001b[0;32m   3252\u001b[0m         \u001b[1;32mreturn\u001b[0m \u001b[0mcls\u001b[0m\u001b[1;33m.\u001b[0m\u001b[0mnew_figure_manager_given_figure\u001b[0m\u001b[1;33m(\u001b[0m\u001b[0mnum\u001b[0m\u001b[1;33m,\u001b[0m \u001b[0mfig\u001b[0m\u001b[1;33m)\u001b[0m\u001b[1;33m\u001b[0m\u001b[1;33m\u001b[0m\u001b[0m\n\u001b[0;32m   3253\u001b[0m \u001b[1;33m\u001b[0m\u001b[0m\n",
      "\u001b[1;31mTypeError\u001b[0m: __init__() got an unexpected keyword argument 'weight'"
     ]
    }
   ],
   "source": [
    "names = ['MLP', 'LSTM']\n",
    "fig = plt.figure(figsize=(10, 5))\n",
    "plt.bar(names,result)\n",
    "fig.savefig('compariaion_accuracy.png')\n",
    "print(result)"
   ]
  },
  {
   "cell_type": "code",
   "execution_count": null,
   "metadata": {},
   "outputs": [],
   "source": [
    "# 77 ans 83 without ravdess datat set\n",
    "# 61 and 71"
   ]
  },
  {
   "cell_type": "code",
   "execution_count": 33,
   "metadata": {},
   "outputs": [
    {
     "name": "stdout",
     "output_type": "stream",
     "text": [
      "6\n"
     ]
    }
   ],
   "source": [
    "print(len(classifier.model.layers))"
   ]
  },
  {
   "cell_type": "code",
   "execution_count": null,
   "metadata": {},
   "outputs": [],
   "source": []
  }
 ],
 "metadata": {
  "kernelspec": {
   "display_name": "Python 3",
   "language": "python",
   "name": "python3"
  },
  "language_info": {
   "codemirror_mode": {
    "name": "ipython",
    "version": 3
   },
   "file_extension": ".py",
   "mimetype": "text/x-python",
   "name": "python",
   "nbconvert_exporter": "python",
   "pygments_lexer": "ipython3",
   "version": "3.7.3"
  }
 },
 "nbformat": 4,
 "nbformat_minor": 2
}
