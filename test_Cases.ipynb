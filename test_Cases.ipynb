{
 "cells": [
  {
   "cell_type": "code",
   "execution_count": 1,
   "metadata": {},
   "outputs": [
    {
     "name": "stderr",
     "output_type": "stream",
     "text": [
      "curdir: C:\\Users\\Amrutha\\Desktop\\ml_2020_project\\speech_proj_2_mlp_final_version_2\n",
      "started reading folder Neutral\n",
      "C:\\Users\\Amrutha\\Anaconda3\\lib\\site-packages\\scipy\\io\\wavfile.py:254: WavFileWarning: Chunk (non-data) not understood, skipping it.\n",
      "  WavFileWarning)\n"
     ]
    },
    {
     "name": "stdout",
     "output_type": "stream",
     "text": [
      "['.ipynb_checkpoints', 'ANN_model_.h5', 'compariaion_accuracy.png', 'data', 'feature_extraction.ipynb', 'LSTM_best_model.h5', 'mel_spectogram.png', 'Model.ipynb', 'model_in_json.json', 'normalised_version.png', 'nueral.ipynb', 'output', 'plot_graph.ipynb', 'predict.ipynb', 'project_notes.txt', 'testing.ipynb', 'test_Cases.ipynb', 'trainig.ipynb', 'wave.png', 'wave_spectogram.png']\n",
      "convert stereo to mono\n"
     ]
    },
    {
     "name": "stderr",
     "output_type": "stream",
     "text": [
      "ended reading folder Neutral\n",
      "curdir: C:\\Users\\Amrutha\\Desktop\\ml_2020_project\\speech_proj_2_mlp_final_version_2\n",
      "started reading folder Sad\n"
     ]
    },
    {
     "name": "stdout",
     "output_type": "stream",
     "text": [
      "['.ipynb_checkpoints', 'ANN_model_.h5', 'compariaion_accuracy.png', 'data', 'feature_extraction.ipynb', 'LSTM_best_model.h5', 'mel_spectogram.png', 'Model.ipynb', 'model_in_json.json', 'normalised_version.png', 'nueral.ipynb', 'output', 'plot_graph.ipynb', 'predict.ipynb', 'project_notes.txt', 'testing.ipynb', 'test_Cases.ipynb', 'trainig.ipynb', 'wave.png', 'wave_spectogram.png']\n"
     ]
    },
    {
     "name": "stderr",
     "output_type": "stream",
     "text": [
      "C:\\Users\\Amrutha\\Anaconda3\\lib\\site-packages\\ipykernel_launcher.py:85: RuntimeWarning: invalid value encountered in log10\n",
      "ended reading folder Sad\n",
      "curdir: C:\\Users\\Amrutha\\Desktop\\ml_2020_project\\speech_proj_2_mlp_final_version_2\n",
      "started reading folder Angry\n"
     ]
    },
    {
     "name": "stdout",
     "output_type": "stream",
     "text": [
      "['.ipynb_checkpoints', 'ANN_model_.h5', 'compariaion_accuracy.png', 'data', 'feature_extraction.ipynb', 'LSTM_best_model.h5', 'mel_spectogram.png', 'Model.ipynb', 'model_in_json.json', 'normalised_version.png', 'nueral.ipynb', 'output', 'plot_graph.ipynb', 'predict.ipynb', 'project_notes.txt', 'testing.ipynb', 'test_Cases.ipynb', 'trainig.ipynb', 'wave.png', 'wave_spectogram.png']\n"
     ]
    },
    {
     "name": "stderr",
     "output_type": "stream",
     "text": [
      "ended reading folder Angry\n",
      "curdir: C:\\Users\\Amrutha\\Desktop\\ml_2020_project\\speech_proj_2_mlp_final_version_2\n",
      "started reading folder Happy\n"
     ]
    },
    {
     "name": "stdout",
     "output_type": "stream",
     "text": [
      "['.ipynb_checkpoints', 'ANN_model_.h5', 'compariaion_accuracy.png', 'data', 'feature_extraction.ipynb', 'LSTM_best_model.h5', 'mel_spectogram.png', 'Model.ipynb', 'model_in_json.json', 'normalised_version.png', 'nueral.ipynb', 'output', 'plot_graph.ipynb', 'predict.ipynb', 'project_notes.txt', 'testing.ipynb', 'test_Cases.ipynb', 'trainig.ipynb', 'wave.png', 'wave_spectogram.png']\n",
      "convert stereo to mono\n"
     ]
    },
    {
     "name": "stderr",
     "output_type": "stream",
     "text": [
      "ended reading folder Happy\n"
     ]
    }
   ],
   "source": [
    "%run feature_extraction.ipynb\n",
    "from sklearn.metrics import confusion_matrix,accuracy_score\n",
    "# get the feature with flatten feature vector\n",
    "to_flatten = True\n",
    "_DATA_PATH = 'data/'\n",
    "_CLASS_LABELS_Neutral = [\"Neutral\"]\n",
    "_CLASS_LABELS_Sad = [\"Sad\"]\n",
    "_CLASS_LABELS_Anger = [\"Angry\"]\n",
    "_CLASS_LABELS_Happy = [\"Happy\"]\n",
    "data_nuetral , labels = get_data(_DATA_PATH, class_labels=_CLASS_LABELS_Neutral,\n",
    "                            flatten=to_flatten)\n",
    "data_sad , labels = get_data(_DATA_PATH, class_labels=_CLASS_LABELS_Sad,\n",
    "                            flatten=to_flatten)\n",
    "data_anger , labels = get_data(_DATA_PATH, class_labels=_CLASS_LABELS_Anger,\n",
    "                            flatten=to_flatten)\n",
    "data_happy, labels = get_data(_DATA_PATH, class_labels=_CLASS_LABELS_Happy,\n",
    "                            flatten=to_flatten)"
   ]
  },
  {
   "cell_type": "code",
   "execution_count": 2,
   "metadata": {},
   "outputs": [
    {
     "name": "stdout",
     "output_type": "stream",
     "text": [
      "C:\\Users\\Amrutha\\Desktop\\ml_2020_project\\speech_proj_2_mlp_final_version_2\n"
     ]
    }
   ],
   "source": [
    "# get current working directory \n",
    "nb_dir = os.path.split(os.getcwd())[0]\n",
    "if nb_dir not in sys.path:\n",
    "    sys.path.append(nb_dir)\n",
    "print(os.getcwd())"
   ]
  },
  {
   "cell_type": "code",
   "execution_count": 3,
   "metadata": {},
   "outputs": [],
   "source": [
    "# load mlp model \n",
    "model = pickle.load(open('ANN_model_.h5', \"rb\"))"
   ]
  },
  {
   "cell_type": "code",
   "execution_count": 4,
   "metadata": {},
   "outputs": [
    {
     "name": "stdout",
     "output_type": "stream",
     "text": [
      "(257,)\n",
      " TESTING FOR NUETRAL EMOTION ACCURACY WITH MLP MODEL \n",
      "confusion matrics= [[241   4  12]\n",
      " [  0   0   0]\n",
      " [  0   0   0]]\n",
      "  \n",
      " accuracy= 93.77431906614785\n"
     ]
    }
   ],
   "source": [
    "# reshape the feature vector to fit the model\n",
    "size = data_nuetral.shape\n",
    "print(data_nuetral.shape)\n",
    "for i in range(size[0]):\n",
    "    if len(data_nuetral[i]) <= 7722:\n",
    "        l = 7722 - len(data_nuetral[i])\n",
    "        data_nuetral[i] = np.append(data_nuetral[i],np.zeros(l))\n",
    "    else:\n",
    "        data_nuetral[i] = data_nuetral[i][:7722]\n",
    "data_nuetral = np.asarray([np.asarray(row, dtype=float) for row in data_nuetral], dtype=float)\n",
    "\n",
    "print(\" TESTING FOR NUETRAL EMOTION ACCURACY WITH MLP MODEL \")\n",
    "y_pred = model.predict(data_nuetral)\n",
    "y_test = [0] * 257\n",
    "cm = confusion_matrix(y_test,y_pred)\n",
    "accuracy = accuracy_score(y_test,y_pred)\n",
    "print(\"confusion matrics=\",cm)\n",
    "print(\"  \")\n",
    "print(\" accuracy=\",accuracy*100)"
   ]
  },
  {
   "cell_type": "code",
   "execution_count": 5,
   "metadata": {},
   "outputs": [
    {
     "name": "stdout",
     "output_type": "stream",
     "text": [
      "(256,)\n",
      " TESTING FOR SAD EMOTION ACCURACY WITH MLP MODEL \n",
      "confusion matrics= [[  0   0   0   0]\n",
      " [  0   0   0   0]\n",
      " [  0   0   0   0]\n",
      " [  9   1   8 238]]\n",
      "  \n",
      " accuracy= 92.96875\n"
     ]
    }
   ],
   "source": [
    "# reshape the feature vector to fit the model\n",
    "size = data_sad.shape\n",
    "print(data_sad.shape)\n",
    "for i in range(size[0]):\n",
    "    if len(data_sad[i]) <= 7722:\n",
    "        l = 7722 - len(data_sad[i])\n",
    "        data_sad[i] = np.append(data_sad[i],np.zeros(l))\n",
    "    else:\n",
    "        data_sad[i] = data_sad[i][:7722]\n",
    "data_sad = np.asarray([np.asarray(row, dtype=float) for row in data_sad], dtype=float)\n",
    "\n",
    "print(\" TESTING FOR SAD EMOTION ACCURACY WITH MLP MODEL \")\n",
    "y_pred = model.predict(data_sad)\n",
    "y_test = [3] * size[0]\n",
    "y_pred = model.predict(data_sad)\n",
    "cm = confusion_matrix(y_test,y_pred)\n",
    "accuracy = accuracy_score(y_test,y_pred)\n",
    "print(\"confusion matrics=\",cm)\n",
    "print(\"  \")\n",
    "print(\" accuracy=\",accuracy*100)"
   ]
  },
  {
   "cell_type": "code",
   "execution_count": 6,
   "metadata": {},
   "outputs": [
    {
     "name": "stdout",
     "output_type": "stream",
     "text": [
      "(254,)\n",
      " TESTING FOR ANGER EMOTION ACCURACY WITH MLP MODEL \n",
      "confusion matrics= [[241   8   5]\n",
      " [  0   0   0]\n",
      " [  0   0   0]]\n",
      "  \n",
      " accuracy= 94.88188976377953\n"
     ]
    }
   ],
   "source": [
    "# reshape the feature vector to fit the model\n",
    "size = data_anger.shape\n",
    "print(data_anger.shape)\n",
    "for i in range(size[0]):\n",
    "    if len(data_anger[i]) <= 7722:\n",
    "        l = 7722 - len(data_anger[i])\n",
    "        data_anger[i] = np.append(data_anger[i],np.zeros(l))\n",
    "    else:\n",
    "        data_anger[i] = data_anger[i][:7722]\n",
    "data_anger = np.asarray([np.asarray(row, dtype=float) for row in data_anger], dtype=float)\n",
    "\n",
    "print(\" TESTING FOR ANGER EMOTION ACCURACY WITH MLP MODEL \")\n",
    "y_pred = model.predict(data_anger)\n",
    "y_test = [1] * size[0]\n",
    "y_pred = model.predict(data_anger)\n",
    "cm = confusion_matrix(y_test,y_pred)\n",
    "accuracy = accuracy_score(y_test,y_pred)\n",
    "print(\"confusion matrics=\",cm)\n",
    "print(\"  \")\n",
    "print(\" accuracy=\",accuracy*100)"
   ]
  },
  {
   "cell_type": "code",
   "execution_count": 7,
   "metadata": {},
   "outputs": [
    {
     "name": "stdout",
     "output_type": "stream",
     "text": [
      "(255,)\n",
      " TESTING FOR HAPPY EMOTION ACCURACY WITH MLP MODEL \n",
      "confusion matrics= [[  0   0   0   0]\n",
      " [  0   0   0   0]\n",
      " [  7  19 214  15]\n",
      " [  0   0   0   0]]\n",
      "  \n",
      " accuracy= 83.92156862745098\n"
     ]
    }
   ],
   "source": [
    "# reshape the feature vector to fit the model\n",
    "size = data_happy.shape\n",
    "print(data_happy.shape)\n",
    "for i in range(size[0]):\n",
    "    if len(data_happy[i]) <= 7722:\n",
    "        l = 7722 - len(data_happy[i])\n",
    "        data_happy[i] = np.append(data_happy[i],np.zeros(l))\n",
    "    else:\n",
    "        data_happy[i] = data_happy[i][:7722]\n",
    "data_happy = np.asarray([np.asarray(row, dtype=float) for row in data_happy], dtype=float)\n",
    "\n",
    "print(\" TESTING FOR HAPPY EMOTION ACCURACY WITH MLP MODEL \")\n",
    "y_pred = model.predict(data_happy)\n",
    "y_test = [2] * size[0]\n",
    "y_pred = model.predict(data_happy)\n",
    "cm = confusion_matrix(y_test,y_pred)\n",
    "accuracy = accuracy_score(y_test,y_pred)\n",
    "print(\"confusion matrics=\",cm)\n",
    "print(\"  \")\n",
    "print(\" accuracy=\",accuracy*100)"
   ]
  },
  {
   "cell_type": "code",
   "execution_count": 8,
   "metadata": {},
   "outputs": [
    {
     "name": "stderr",
     "output_type": "stream",
     "text": [
      "Using TensorFlow backend.\n",
      "C:\\Users\\Amrutha\\Anaconda3\\lib\\site-packages\\tensorflow\\python\\framework\\dtypes.py:526: FutureWarning: Passing (type, 1) or '1type' as a synonym of type is deprecated; in a future version of numpy, it will be understood as (type, (1,)) / '(1,)type'.\n",
      "  _np_qint8 = np.dtype([(\"qint8\", np.int8, 1)])\n",
      "C:\\Users\\Amrutha\\Anaconda3\\lib\\site-packages\\tensorflow\\python\\framework\\dtypes.py:527: FutureWarning: Passing (type, 1) or '1type' as a synonym of type is deprecated; in a future version of numpy, it will be understood as (type, (1,)) / '(1,)type'.\n",
      "  _np_quint8 = np.dtype([(\"quint8\", np.uint8, 1)])\n",
      "C:\\Users\\Amrutha\\Anaconda3\\lib\\site-packages\\tensorflow\\python\\framework\\dtypes.py:528: FutureWarning: Passing (type, 1) or '1type' as a synonym of type is deprecated; in a future version of numpy, it will be understood as (type, (1,)) / '(1,)type'.\n",
      "  _np_qint16 = np.dtype([(\"qint16\", np.int16, 1)])\n",
      "C:\\Users\\Amrutha\\Anaconda3\\lib\\site-packages\\tensorflow\\python\\framework\\dtypes.py:529: FutureWarning: Passing (type, 1) or '1type' as a synonym of type is deprecated; in a future version of numpy, it will be understood as (type, (1,)) / '(1,)type'.\n",
      "  _np_quint16 = np.dtype([(\"quint16\", np.uint16, 1)])\n",
      "C:\\Users\\Amrutha\\Anaconda3\\lib\\site-packages\\tensorflow\\python\\framework\\dtypes.py:530: FutureWarning: Passing (type, 1) or '1type' as a synonym of type is deprecated; in a future version of numpy, it will be understood as (type, (1,)) / '(1,)type'.\n",
      "  _np_qint32 = np.dtype([(\"qint32\", np.int32, 1)])\n",
      "C:\\Users\\Amrutha\\Anaconda3\\lib\\site-packages\\tensorflow\\python\\framework\\dtypes.py:535: FutureWarning: Passing (type, 1) or '1type' as a synonym of type is deprecated; in a future version of numpy, it will be understood as (type, (1,)) / '(1,)type'.\n",
      "  np_resource = np.dtype([(\"resource\", np.ubyte, 1)])\n"
     ]
    },
    {
     "name": "stdout",
     "output_type": "stream",
     "text": [
      "WARNING:tensorflow:From C:\\Users\\Amrutha\\Anaconda3\\lib\\site-packages\\tensorflow\\python\\ops\\resource_variable_ops.py:435: colocate_with (from tensorflow.python.framework.ops) is deprecated and will be removed in a future version.\n",
      "Instructions for updating:\n",
      "Colocations handled automatically by placer.\n"
     ]
    }
   ],
   "source": [
    "# load LSTM model\n",
    "# load lstm model\n",
    "from keras.models import load_model\n",
    "from keras.models import model_from_json\n",
    "import json\n",
    "\n",
    "with open('model_in_json.json','r') as f:\n",
    "    model_json = json.load(f)\n",
    "model = model_from_json(model_json)\n",
    "model.load_weights('LSTM_best_model.h5')"
   ]
  },
  {
   "cell_type": "code",
   "execution_count": 9,
   "metadata": {
    "scrolled": true
   },
   "outputs": [
    {
     "name": "stdout",
     "output_type": "stream",
     "text": [
      "(257, 7722)\n",
      "(254, 7722)\n",
      " TESTING FOR NUETRAL EMOTION ACCURACY WITH LSTM MODEL \n",
      "(0, 0, 0, 3, 0, 0, 0, 0, 0, 0, 0, 0, 0, 0, 0, 0, 0, 0, 0, 0, 0, 0, 0, 3, 0, 3, 0, 0, 0, 0, 3, 0, 0, 0, 0, 0, 0, 0, 0, 3, 0, 0, 0, 0, 3, 0, 0, 0, 0, 0, 0, 0, 0, 0, 0, 0, 0, 0, 0, 3, 2, 0, 0, 3, 0, 0, 0, 0, 0, 0, 3, 0, 0, 0, 0, 0, 0, 0, 0, 0, 0, 0, 0, 0, 0, 0, 0, 0, 0, 0, 0, 0, 0, 0, 0, 0, 0, 0, 0, 0, 0, 0, 0, 0, 0, 0, 0, 0, 0, 0, 0, 0, 0, 0, 0, 0, 0, 0, 0, 0, 0, 0, 0, 0, 0, 0, 0, 0, 0, 0, 0, 0, 0, 0, 0, 0, 0, 0, 0, 0, 0, 0, 0, 0, 0, 0, 0, 0, 0, 0, 0, 0, 0, 0, 0, 0, 0, 0, 0, 0, 0, 0, 0, 0, 0, 0, 0, 0, 0, 0, 0, 0, 0, 0, 0, 0, 0, 0, 0, 0, 0, 0, 0, 0, 0, 0, 0, 0, 0, 0, 0, 0, 0, 0, 0, 0, 0, 0, 0, 0, 0, 0, 0, 0, 0, 0, 0, 0, 0, 0, 0, 0, 0, 0, 0, 0, 0, 0, 0, 0, 0, 0, 0, 0, 0, 0, 0, 0, 0, 0, 0, 0, 0, 0, 0, 0, 0, 0, 0, 0, 0, 0, 0, 0, 0, 0, 0, 0, 0, 0, 0, 0, 0, 2, 0, 1, 3)\n",
      "confusion matrics= [[244   1   2  10]\n",
      " [  0   0   0   0]\n",
      " [  0   0   0   0]\n",
      " [  0   0   0   0]]\n",
      "  \n",
      " accuracy= 94.94163424124513\n"
     ]
    }
   ],
   "source": [
    "# reshape the feature vector \n",
    "size = data_nuetral.shape\n",
    "print(data_nuetral.shape)\n",
    "for i in range(size[0]):\n",
    "    if len(data_nuetral[i]) <= 7722:\n",
    "        l = 7722 - len(data_nuetral[i])\n",
    "#         print(\"asd\",l)\n",
    "        data_nuetral[i] = np.append(data_nuetral[i],np.zeros(l))\n",
    "    else:\n",
    "        data_nuetral[i] = data_nuetral[i][:7722]\n",
    "data_nuetral = np.asarray([np.asarray(row, dtype=float) for row in data_nuetral], dtype=float)\n",
    "data_nuetral = np.resize(data_nuetral, (size[0],198, 39))\n",
    "print(data_anger.shape)\n",
    "\n",
    "%run predict.ipynb\n",
    "print(\" TESTING FOR NUETRAL EMOTION ACCURACY WITH LSTM MODEL \")\n",
    "y_pred = predict(data_nuetral,classifier='LSTM')\n",
    "print(y_pred)\n",
    "y_test = [0] * size[0]\n",
    "# y_pred = predict_one(data_nuetral,classifier='LSTM')\n",
    "cm = confusion_matrix(y_test,y_pred)\n",
    "accuracy = accuracy_score(y_test,y_pred)\n",
    "print(\"confusion matrics=\",cm)\n",
    "print(\"  \")\n",
    "print(\" accuracy=\",accuracy*100)"
   ]
  },
  {
   "cell_type": "code",
   "execution_count": 10,
   "metadata": {},
   "outputs": [
    {
     "name": "stdout",
     "output_type": "stream",
     "text": [
      "(256, 7722)\n",
      "(256, 198, 39)\n",
      " TESTING FOR SAD EMOTION ACCURACY WITH LSTM MODEL \n",
      "confusion matrics= [[  0   0   0   0]\n",
      " [  0   0   0   0]\n",
      " [  0   0   0   0]\n",
      " [  5   1   6 244]]\n",
      "  \n",
      " accuracy= 95.3125\n"
     ]
    }
   ],
   "source": [
    "# reshape the feature vector \n",
    "size = data_sad.shape\n",
    "print(data_sad.shape)\n",
    "for i in range(size[0]):\n",
    "    if len(data_sad[i]) <= 7722:\n",
    "        l = 7722 - len(data_sad[i])\n",
    "#         print(\"asd\",l)\n",
    "        data_sad[i] = np.append(data_sad[i],np.zeros(l))\n",
    "    else:\n",
    "        data_sad[i] = data_sad[i][:7722]\n",
    "data_sad = np.asarray([np.asarray(row, dtype=float) for row in data_sad], dtype=float)\n",
    "data_sad = np.resize(data_sad, (size[0],198, 39))\n",
    "print(data_sad.shape)\n",
    "\n",
    "print(\" TESTING FOR SAD EMOTION ACCURACY WITH LSTM MODEL \")\n",
    "y_pred = predict(data_sad,classifier='LSTM')\n",
    "y_test = [3] * size[0]\n",
    "cm = confusion_matrix(y_test,y_pred)\n",
    "accuracy = accuracy_score(y_test,y_pred)\n",
    "print(\"confusion matrics=\",cm)\n",
    "print(\"  \")\n",
    "print(\" accuracy=\",accuracy*100)"
   ]
  },
  {
   "cell_type": "code",
   "execution_count": 11,
   "metadata": {},
   "outputs": [
    {
     "name": "stdout",
     "output_type": "stream",
     "text": [
      "(254, 7722)\n",
      "(254, 198, 39)\n",
      " TESTING FOR ANGER EMOTION ACCURACY WITH LSTM MODEL \n",
      "confusion matrics= [[243   8   3]\n",
      " [  0   0   0]\n",
      " [  0   0   0]]\n",
      "  \n",
      " accuracy= 95.66929133858267\n"
     ]
    }
   ],
   "source": [
    "# reshape the feature vector \n",
    "size = data_anger.shape\n",
    "print(data_anger.shape)\n",
    "for i in range(size[0]):\n",
    "    if len(data_anger[i]) <= 7722:\n",
    "        l = 7722 - len(data_anger[i])\n",
    "#         print(\"asd\",l)\n",
    "        data_anger[i] = np.append(data_anger[i],np.zeros(l))\n",
    "    else:\n",
    "        data_anger[i] = data_anger[i][:7722]\n",
    "data_anger = np.asarray([np.asarray(row, dtype=float) for row in data_anger], dtype=float)\n",
    "data_anger = np.resize(data_anger, (size[0],198, 39))\n",
    "print(data_anger.shape)\n",
    "\n",
    "print(\" TESTING FOR ANGER EMOTION ACCURACY WITH LSTM MODEL \")\n",
    "y_pred = predict(data_anger,classifier='LSTM')\n",
    "y_test = [1] * size[0]\n",
    "cm = confusion_matrix(y_test,y_pred)\n",
    "accuracy = accuracy_score(y_test,y_pred)\n",
    "print(\"confusion matrics=\",cm)\n",
    "print(\"  \")\n",
    "print(\" accuracy=\",accuracy*100)"
   ]
  },
  {
   "cell_type": "code",
   "execution_count": 12,
   "metadata": {},
   "outputs": [
    {
     "name": "stdout",
     "output_type": "stream",
     "text": [
      "(255, 7722)\n",
      "(255, 198, 39)\n",
      " TESTING FOR HAPPY EMOTION ACCURACY WITH LSTM MODEL \n",
      "confusion matrics= [[  0   0   0   0]\n",
      " [  0   0   0   0]\n",
      " [  5  10 232   8]\n",
      " [  0   0   0   0]]\n",
      "  \n",
      " accuracy= 90.98039215686275\n"
     ]
    }
   ],
   "source": [
    "# reshape the feature vector \n",
    "size = data_happy.shape\n",
    "print(data_happy.shape)\n",
    "for i in range(size[0]):\n",
    "    if len(data_happy[i]) <= 7722:\n",
    "        l = 7722 - len(data_happy[i])\n",
    "#         print(\"asd\",l)\n",
    "        data_happy[i] = np.append(data_happy[i],np.zeros(l))\n",
    "    else:\n",
    "        data_happy[i] = data_happy[i][:7722]\n",
    "data_happy = np.asarray([np.asarray(row, dtype=float) for row in data_happy], dtype=float)\n",
    "data_happy = np.resize(data_happy, (size[0],198, 39))\n",
    "print(data_happy.shape)\n",
    "\n",
    "print(\" TESTING FOR HAPPY EMOTION ACCURACY WITH LSTM MODEL \")\n",
    "y_pred = predict(data_happy,classifier='LSTM')\n",
    "y_test = [2] * size[0]\n",
    "cm = confusion_matrix(y_test,y_pred)\n",
    "accuracy = accuracy_score(y_test,y_pred)\n",
    "print(\"confusion matrics=\",cm)\n",
    "print(\"  \")\n",
    "print(\" accuracy=\",accuracy*100)"
   ]
  },
  {
   "cell_type": "code",
   "execution_count": null,
   "metadata": {},
   "outputs": [],
   "source": []
  }
 ],
 "metadata": {
  "kernelspec": {
   "display_name": "Python 3",
   "language": "python",
   "name": "python3"
  },
  "language_info": {
   "codemirror_mode": {
    "name": "ipython",
    "version": 3
   },
   "file_extension": ".py",
   "mimetype": "text/x-python",
   "name": "python",
   "nbconvert_exporter": "python",
   "pygments_lexer": "ipython3",
   "version": "3.7.3"
  }
 },
 "nbformat": 4,
 "nbformat_minor": 2
}
