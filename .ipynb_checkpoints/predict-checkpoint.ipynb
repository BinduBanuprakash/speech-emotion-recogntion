{
 "cells": [
  {
   "cell_type": "code",
   "execution_count": 1,
   "metadata": {},
   "outputs": [
    {
     "ename": "SyntaxError",
     "evalue": "invalid syntax (<ipython-input-1-00a1ca3a0f73>, line 9)",
     "output_type": "error",
     "traceback": [
      "\u001b[1;36m  File \u001b[1;32m\"<ipython-input-1-00a1ca3a0f73>\"\u001b[1;36m, line \u001b[1;32m9\u001b[0m\n\u001b[1;33m    if classifier = \"LSTM\":\u001b[0m\n\u001b[1;37m                  ^\u001b[0m\n\u001b[1;31mSyntaxError\u001b[0m\u001b[1;31m:\u001b[0m invalid syntax\n"
     ]
    }
   ],
   "source": [
    "def predict(samples: numpy.ndarray,classifier = None) -> Tuple:\n",
    "        \"\"\"\n",
    "        Predict labels for given data.\n",
    "        Args:\n",
    "            samples (numpy.ndarray): data for which labels need to be predicted\n",
    "        Returns:\n",
    "            list: list of labels predicted for the data.\n",
    "        \"\"\"\n",
    "        if classifier == \"LSTM\":\n",
    "            results = []\n",
    "            for _, sample in enumerate(samples):\n",
    "                results.append(predict_one(sample,classifier='LSTM'))\n",
    "            return tuple(results)        \n",
    "        else:\n",
    "            results = []\n",
    "            for _, sample in enumerate(samples):\n",
    "                results.append(self.predict_one(sample))\n",
    "            return tuple(results)\n",
    "\n",
    "def predict_one(sample,classifier=None):\n",
    "##    sample=sample[0:7722]\n",
    "    #print(sample.shape)\n",
    "    if classifier == 'LSTM':\n",
    "        return np.argmax(model.predict(np.array([sample])))\n",
    "    else:\n",
    "        return model.predict(numpy.array([sample]))"
   ]
  },
  {
   "cell_type": "code",
   "execution_count": null,
   "metadata": {},
   "outputs": [],
   "source": []
  }
 ],
 "metadata": {
  "kernelspec": {
   "display_name": "Python 3",
   "language": "python",
   "name": "python3"
  },
  "language_info": {
   "codemirror_mode": {
    "name": "ipython",
    "version": 3
   },
   "file_extension": ".py",
   "mimetype": "text/x-python",
   "name": "python",
   "nbconvert_exporter": "python",
   "pygments_lexer": "ipython3",
   "version": "3.7.3"
  }
 },
 "nbformat": 4,
 "nbformat_minor": 2
}
